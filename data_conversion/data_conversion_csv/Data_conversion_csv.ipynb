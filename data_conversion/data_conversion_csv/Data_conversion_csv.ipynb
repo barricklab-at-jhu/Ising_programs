{
 "cells": [
  {
   "cell_type": "markdown",
   "metadata": {},
   "source": [
    "# Data conversion script.\n",
    "\n",
    "Data are read from an csv file.\n",
    "\n",
    "Outputs are\n",
    "\n",
    "1.  A numpy data file for each melt, contining [denaturant], normalized signal, construct ID, and melt ID.\n",
    "\n",
    "2.  A list of constructs.\n",
    "\n",
    "3.  A list of melts."
   ]
  },
  {
   "cell_type": "code",
   "execution_count": 8,
   "metadata": {},
   "outputs": [
    {
     "name": "stderr",
     "output_type": "stream",
     "text": [
      "/opt/anaconda3/envs/py27/lib/python2.7/site-packages/ipykernel_launcher.py:25: SettingWithCopyWarning: \n",
      "A value is trying to be set on a copy of a slice from a DataFrame.\n",
      "Try using .loc[row_indexer,col_indexer] = value instead\n",
      "\n",
      "See the caveats in the documentation: http://pandas.pydata.org/pandas-docs/stable/indexing.html#indexing-view-versus-copy\n"
     ]
    }
   ],
   "source": [
    "import numpy as np\n",
    "import pandas as pd\n",
    "import json\n",
    "\n",
    "path = '/Users/dougbarrick/OneDrive - Johns Hopkins/Manuscripts/Ising_program/\\\n",
    "Scripts/scripts_vanilla_NRC/cANK_scripts/cANK_jupyter_scripts/data_conversion_csv/'\n",
    "\n",
    "proj_name = 'AnkT4V'\n",
    "\n",
    "den_nsig_const_melt = []\n",
    "constructs = []         # List of constructs used to build partition functions in next script\n",
    "melts = []              # List of melts to be used in fitting script\n",
    "\n",
    "csv_input_df = pd.read_csv('T4Vdata_not_normalized.csv',names=['denat','signal','construct_melt','dataset'])\n",
    "\n",
    "#df_dict = {}  # Not sure I will use this.\n",
    "\n",
    "num_melts=csv_input_df['dataset'].max()\n",
    "for melt in np.arange(num_melts)+1:\n",
    "    temp_df = csv_input_df.loc[csv_input_df.dataset == melt] # Pulls out just one melt\n",
    "        \n",
    "    # Normalizing the signal\n",
    "    min = temp_df['signal'].min()\n",
    "    max = temp_df['signal'].max()\n",
    "    series=(temp_df['signal'] - min)/(max - min)\n",
    "    temp_df['signal'] = series  # Overwrites un-normalized signal (and generates a warning below)\n",
    "    temp_df.rename(columns={'signal': 'nsig'}, inplace=True)\n",
    "    temp_list = temp_df.values.tolist()\n",
    "    temp_nparray = np.array(temp_list)\n",
    "    construct_melt = temp_df.iloc[0, 2]\n",
    "    melts.append(construct_melt)\n",
    "    np.save(path + construct_melt, temp_nparray) # Writes an npy file to disk for each melt.\n",
    "    \n",
    "# Generate a list of just the constructs.  The loop removes duplicates.\n",
    "    for melt in melts: \n",
    "        if melt[:-2] not in constructs: \n",
    "            constructs.append(melt[:-2]) \n",
    "\n",
    "with open(\"{0}{1}_constructs.txt\".format(path, proj_name), 'wb') as r:\n",
    "    json.dump(constructs, r)\n",
    "\n",
    "with open(\"{0}{1}_melts.txt\".format(path, proj_name), 'wb') as s:\n",
    "    json.dump(melts, s)  \n"
   ]
  },
  {
   "cell_type": "code",
   "execution_count": 6,
   "metadata": {},
   "outputs": [
    {
     "data": {
      "text/html": [
       "<div>\n",
       "<style scoped>\n",
       "    .dataframe tbody tr th:only-of-type {\n",
       "        vertical-align: middle;\n",
       "    }\n",
       "\n",
       "    .dataframe tbody tr th {\n",
       "        vertical-align: top;\n",
       "    }\n",
       "\n",
       "    .dataframe thead th {\n",
       "        text-align: right;\n",
       "    }\n",
       "</style>\n",
       "<table border=\"1\" class=\"dataframe\">\n",
       "  <thead>\n",
       "    <tr style=\"text-align: right;\">\n",
       "      <th></th>\n",
       "      <th>denat</th>\n",
       "      <th>nsig</th>\n",
       "      <th>construct_melt</th>\n",
       "      <th>dataset</th>\n",
       "    </tr>\n",
       "  </thead>\n",
       "  <tbody>\n",
       "    <tr>\n",
       "      <th>525</th>\n",
       "      <td>0.00</td>\n",
       "      <td>0.987451</td>\n",
       "      <td>N_R_X_3</td>\n",
       "      <td>18</td>\n",
       "    </tr>\n",
       "    <tr>\n",
       "      <th>526</th>\n",
       "      <td>0.14</td>\n",
       "      <td>1.000000</td>\n",
       "      <td>N_R_X_3</td>\n",
       "      <td>18</td>\n",
       "    </tr>\n",
       "    <tr>\n",
       "      <th>527</th>\n",
       "      <td>0.28</td>\n",
       "      <td>0.999178</td>\n",
       "      <td>N_R_X_3</td>\n",
       "      <td>18</td>\n",
       "    </tr>\n",
       "    <tr>\n",
       "      <th>528</th>\n",
       "      <td>0.42</td>\n",
       "      <td>0.987704</td>\n",
       "      <td>N_R_X_3</td>\n",
       "      <td>18</td>\n",
       "    </tr>\n",
       "    <tr>\n",
       "      <th>529</th>\n",
       "      <td>0.56</td>\n",
       "      <td>0.975733</td>\n",
       "      <td>N_R_X_3</td>\n",
       "      <td>18</td>\n",
       "    </tr>\n",
       "  </tbody>\n",
       "</table>\n",
       "</div>"
      ],
      "text/plain": [
       "     denat      nsig construct_melt  dataset\n",
       "525   0.00  0.987451        N_R_X_3       18\n",
       "526   0.14  1.000000        N_R_X_3       18\n",
       "527   0.28  0.999178        N_R_X_3       18\n",
       "528   0.42  0.987704        N_R_X_3       18\n",
       "529   0.56  0.975733        N_R_X_3       18"
      ]
     },
     "execution_count": 6,
     "metadata": {},
     "output_type": "execute_result"
    }
   ],
   "source": [
    "temp_df.head()"
   ]
  },
  {
   "cell_type": "code",
   "execution_count": 7,
   "metadata": {},
   "outputs": [
    {
     "data": {
      "text/plain": [
       "'N_R_X_3'"
      ]
     },
     "execution_count": 7,
     "metadata": {},
     "output_type": "execute_result"
    }
   ],
   "source": [
    "temp_df.iloc[0, 2]"
   ]
  },
  {
   "cell_type": "code",
   "execution_count": null,
   "metadata": {},
   "outputs": [],
   "source": []
  }
 ],
 "metadata": {
  "kernelspec": {
   "display_name": "Python 2",
   "language": "python",
   "name": "python2"
  },
  "language_info": {
   "codemirror_mode": {
    "name": "ipython",
    "version": 2
   },
   "file_extension": ".py",
   "mimetype": "text/x-python",
   "name": "python",
   "nbconvert_exporter": "python",
   "pygments_lexer": "ipython2",
   "version": "2.7.18"
  }
 },
 "nbformat": 4,
 "nbformat_minor": 2
}
