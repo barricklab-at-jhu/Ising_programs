{
 "cells": [
  {
   "cell_type": "markdown",
   "metadata": {},
   "source": [
    "# A script to calculate partial correlation coefficients from bootstrap parameters using the pingouin module.\n",
    "\n",
    "Needs to be run in python 3.7 for Pingouin compatibility"
   ]
  },
  {
   "cell_type": "code",
   "execution_count": 1,
   "metadata": {},
   "outputs": [
    {
     "name": "stderr",
     "output_type": "stream",
     "text": [
      "/home/xtremejake/anaconda3/envs/ising_py3/lib/python3.8/site-packages/outdated/utils.py:14: OutdatedPackageWarning: The package pingouin is out of date. Your version is 0.3.4, the latest is 0.3.5.\n",
      "Set the environment variable OUTDATED_IGNORE=1 to disable these warnings.\n",
      "  return warn(\n"
     ]
    }
   ],
   "source": [
    "import numpy as np\n",
    "import pandas as pd\n",
    "import pingouin as pg\n",
    "import os\n",
    "\n",
    "path = os.getcwd()\n",
    "\n",
    "proj_name = \"cANK\"#'T4V_NRC_2mi'\n",
    "\n",
    "bs_params_df = pd.read_csv(os.path.join(path, f'{proj_name}_bootstrap_params.csv'), index_col='Bootstrap Iter')\n",
    "del bs_params_df['redchi**2'], bs_params_df['bestchi**2']\n",
    "\n",
    "bs_params_partial_corr_df = bs_params_df.pcorr() # Gives matrix of partial correlations, where all other variables are factored out\n",
    "bs_params_partial_corr_df.to_csv(os.path.join(path, f\"{proj_name}_bootstrap_partial_corr.csv\"))"
   ]
  },
  {
   "cell_type": "code",
   "execution_count": 2,
   "metadata": {
    "scrolled": true
   },
   "outputs": [
    {
     "data": {
      "text/html": [
       "<div>\n",
       "<style scoped>\n",
       "    .dataframe tbody tr th:only-of-type {\n",
       "        vertical-align: middle;\n",
       "    }\n",
       "\n",
       "    .dataframe tbody tr th {\n",
       "        vertical-align: top;\n",
       "    }\n",
       "\n",
       "    .dataframe thead th {\n",
       "        text-align: right;\n",
       "    }\n",
       "</style>\n",
       "<table border=\"1\" class=\"dataframe\">\n",
       "  <thead>\n",
       "    <tr style=\"text-align: right;\">\n",
       "      <th></th>\n",
       "      <th>dGN</th>\n",
       "      <th>dGR</th>\n",
       "      <th>dGC</th>\n",
       "      <th>dGinter</th>\n",
       "      <th>mi</th>\n",
       "    </tr>\n",
       "  </thead>\n",
       "  <tbody>\n",
       "    <tr>\n",
       "      <th>dGN</th>\n",
       "      <td>1.000000</td>\n",
       "      <td>-0.700119</td>\n",
       "      <td>-0.422334</td>\n",
       "      <td>-0.775285</td>\n",
       "      <td>0.747260</td>\n",
       "    </tr>\n",
       "    <tr>\n",
       "      <th>dGR</th>\n",
       "      <td>-0.700119</td>\n",
       "      <td>1.000000</td>\n",
       "      <td>-0.673719</td>\n",
       "      <td>-0.985720</td>\n",
       "      <td>0.987399</td>\n",
       "    </tr>\n",
       "    <tr>\n",
       "      <th>dGC</th>\n",
       "      <td>-0.422334</td>\n",
       "      <td>-0.673719</td>\n",
       "      <td>1.000000</td>\n",
       "      <td>-0.733868</td>\n",
       "      <td>0.654433</td>\n",
       "    </tr>\n",
       "    <tr>\n",
       "      <th>dGinter</th>\n",
       "      <td>-0.775285</td>\n",
       "      <td>-0.985720</td>\n",
       "      <td>-0.733868</td>\n",
       "      <td>1.000000</td>\n",
       "      <td>0.988600</td>\n",
       "    </tr>\n",
       "    <tr>\n",
       "      <th>mi</th>\n",
       "      <td>0.747260</td>\n",
       "      <td>0.987399</td>\n",
       "      <td>0.654433</td>\n",
       "      <td>0.988600</td>\n",
       "      <td>1.000000</td>\n",
       "    </tr>\n",
       "  </tbody>\n",
       "</table>\n",
       "</div>"
      ],
      "text/plain": [
       "              dGN       dGR       dGC   dGinter        mi\n",
       "dGN      1.000000 -0.700119 -0.422334 -0.775285  0.747260\n",
       "dGR     -0.700119  1.000000 -0.673719 -0.985720  0.987399\n",
       "dGC     -0.422334 -0.673719  1.000000 -0.733868  0.654433\n",
       "dGinter -0.775285 -0.985720 -0.733868  1.000000  0.988600\n",
       "mi       0.747260  0.987399  0.654433  0.988600  1.000000"
      ]
     },
     "execution_count": 2,
     "metadata": {},
     "output_type": "execute_result"
    }
   ],
   "source": [
    "bs_params_partial_corr_df"
   ]
  },
  {
   "cell_type": "code",
   "execution_count": 3,
   "metadata": {},
   "outputs": [
    {
     "data": {
      "text/plain": [
       "Index(['dGN', 'dGR', 'dGC', 'dGinter', 'mi'], dtype='object')"
      ]
     },
     "execution_count": 3,
     "metadata": {},
     "output_type": "execute_result"
    }
   ],
   "source": [
    "bs_params_df.columns"
   ]
  },
  {
   "cell_type": "code",
   "execution_count": 4,
   "metadata": {},
   "outputs": [
    {
     "data": {
      "text/html": [
       "<div>\n",
       "<style scoped>\n",
       "    .dataframe tbody tr th:only-of-type {\n",
       "        vertical-align: middle;\n",
       "    }\n",
       "\n",
       "    .dataframe tbody tr th {\n",
       "        vertical-align: top;\n",
       "    }\n",
       "\n",
       "    .dataframe thead th {\n",
       "        text-align: right;\n",
       "    }\n",
       "</style>\n",
       "<table border=\"1\" class=\"dataframe\">\n",
       "  <thead>\n",
       "    <tr style=\"text-align: right;\">\n",
       "      <th></th>\n",
       "      <th>n</th>\n",
       "      <th>r</th>\n",
       "      <th>CI95%</th>\n",
       "      <th>r2</th>\n",
       "      <th>adj_r2</th>\n",
       "      <th>p-val</th>\n",
       "      <th>BF10</th>\n",
       "      <th>power</th>\n",
       "    </tr>\n",
       "  </thead>\n",
       "  <tbody>\n",
       "    <tr>\n",
       "      <th>pearson</th>\n",
       "      <td>1000</td>\n",
       "      <td>0.74726</td>\n",
       "      <td>[0.72, 0.77]</td>\n",
       "      <td>0.558398</td>\n",
       "      <td>0.557512</td>\n",
       "      <td>2.507119e-179</td>\n",
       "      <td>2.362e+175</td>\n",
       "      <td>1.0</td>\n",
       "    </tr>\n",
       "  </tbody>\n",
       "</table>\n",
       "</div>"
      ],
      "text/plain": [
       "            n        r         CI95%        r2    adj_r2          p-val  \\\n",
       "pearson  1000  0.74726  [0.72, 0.77]  0.558398  0.557512  2.507119e-179   \n",
       "\n",
       "               BF10  power  \n",
       "pearson  2.362e+175    1.0  "
      ]
     },
     "execution_count": 4,
     "metadata": {},
     "output_type": "execute_result"
    }
   ],
   "source": [
    "pg.partial_corr(data=bs_params_df, x='dGN', y='mi', covar=['dGC', 'dGinter', 'dGR'])"
   ]
  },
  {
   "cell_type": "code",
   "execution_count": 5,
   "metadata": {},
   "outputs": [
    {
     "data": {
      "text/html": [
       "<div>\n",
       "<style scoped>\n",
       "    .dataframe tbody tr th:only-of-type {\n",
       "        vertical-align: middle;\n",
       "    }\n",
       "\n",
       "    .dataframe tbody tr th {\n",
       "        vertical-align: top;\n",
       "    }\n",
       "\n",
       "    .dataframe thead th {\n",
       "        text-align: right;\n",
       "    }\n",
       "</style>\n",
       "<table border=\"1\" class=\"dataframe\">\n",
       "  <thead>\n",
       "    <tr style=\"text-align: right;\">\n",
       "      <th></th>\n",
       "      <th>dGN</th>\n",
       "      <th>dGR</th>\n",
       "      <th>dGC</th>\n",
       "      <th>dGinter</th>\n",
       "      <th>mi</th>\n",
       "    </tr>\n",
       "    <tr>\n",
       "      <th>Bootstrap Iter</th>\n",
       "      <th></th>\n",
       "      <th></th>\n",
       "      <th></th>\n",
       "      <th></th>\n",
       "      <th></th>\n",
       "    </tr>\n",
       "  </thead>\n",
       "  <tbody>\n",
       "    <tr>\n",
       "      <th>1</th>\n",
       "      <td>5.478201</td>\n",
       "      <td>4.594815</td>\n",
       "      <td>7.066911</td>\n",
       "      <td>-11.616789</td>\n",
       "      <td>-0.772278</td>\n",
       "    </tr>\n",
       "    <tr>\n",
       "      <th>2</th>\n",
       "      <td>5.450467</td>\n",
       "      <td>4.565097</td>\n",
       "      <td>7.050363</td>\n",
       "      <td>-11.595969</td>\n",
       "      <td>-0.774878</td>\n",
       "    </tr>\n",
       "    <tr>\n",
       "      <th>3</th>\n",
       "      <td>5.484211</td>\n",
       "      <td>4.586912</td>\n",
       "      <td>7.066469</td>\n",
       "      <td>-11.637420</td>\n",
       "      <td>-0.776644</td>\n",
       "    </tr>\n",
       "    <tr>\n",
       "      <th>4</th>\n",
       "      <td>5.453275</td>\n",
       "      <td>4.562615</td>\n",
       "      <td>7.030624</td>\n",
       "      <td>-11.602757</td>\n",
       "      <td>-0.777668</td>\n",
       "    </tr>\n",
       "    <tr>\n",
       "      <th>5</th>\n",
       "      <td>5.521109</td>\n",
       "      <td>4.619406</td>\n",
       "      <td>7.104094</td>\n",
       "      <td>-11.700088</td>\n",
       "      <td>-0.779114</td>\n",
       "    </tr>\n",
       "    <tr>\n",
       "      <th>...</th>\n",
       "      <td>...</td>\n",
       "      <td>...</td>\n",
       "      <td>...</td>\n",
       "      <td>...</td>\n",
       "      <td>...</td>\n",
       "    </tr>\n",
       "    <tr>\n",
       "      <th>996</th>\n",
       "      <td>5.375525</td>\n",
       "      <td>4.544580</td>\n",
       "      <td>6.989811</td>\n",
       "      <td>-11.517902</td>\n",
       "      <td>-0.769431</td>\n",
       "    </tr>\n",
       "    <tr>\n",
       "      <th>997</th>\n",
       "      <td>5.533396</td>\n",
       "      <td>4.615733</td>\n",
       "      <td>7.117106</td>\n",
       "      <td>-11.739099</td>\n",
       "      <td>-0.785690</td>\n",
       "    </tr>\n",
       "    <tr>\n",
       "      <th>998</th>\n",
       "      <td>5.459227</td>\n",
       "      <td>4.546955</td>\n",
       "      <td>7.007697</td>\n",
       "      <td>-11.569152</td>\n",
       "      <td>-0.774426</td>\n",
       "    </tr>\n",
       "    <tr>\n",
       "      <th>999</th>\n",
       "      <td>5.295451</td>\n",
       "      <td>4.391067</td>\n",
       "      <td>6.851741</td>\n",
       "      <td>-11.302738</td>\n",
       "      <td>-0.764384</td>\n",
       "    </tr>\n",
       "    <tr>\n",
       "      <th>1000</th>\n",
       "      <td>5.419576</td>\n",
       "      <td>4.566993</td>\n",
       "      <td>7.008261</td>\n",
       "      <td>-11.560011</td>\n",
       "      <td>-0.770705</td>\n",
       "    </tr>\n",
       "  </tbody>\n",
       "</table>\n",
       "<p>1000 rows × 5 columns</p>\n",
       "</div>"
      ],
      "text/plain": [
       "                     dGN       dGR       dGC    dGinter        mi\n",
       "Bootstrap Iter                                                   \n",
       "1               5.478201  4.594815  7.066911 -11.616789 -0.772278\n",
       "2               5.450467  4.565097  7.050363 -11.595969 -0.774878\n",
       "3               5.484211  4.586912  7.066469 -11.637420 -0.776644\n",
       "4               5.453275  4.562615  7.030624 -11.602757 -0.777668\n",
       "5               5.521109  4.619406  7.104094 -11.700088 -0.779114\n",
       "...                  ...       ...       ...        ...       ...\n",
       "996             5.375525  4.544580  6.989811 -11.517902 -0.769431\n",
       "997             5.533396  4.615733  7.117106 -11.739099 -0.785690\n",
       "998             5.459227  4.546955  7.007697 -11.569152 -0.774426\n",
       "999             5.295451  4.391067  6.851741 -11.302738 -0.764384\n",
       "1000            5.419576  4.566993  7.008261 -11.560011 -0.770705\n",
       "\n",
       "[1000 rows x 5 columns]"
      ]
     },
     "execution_count": 5,
     "metadata": {},
     "output_type": "execute_result"
    }
   ],
   "source": [
    "bs_params_df"
   ]
  },
  {
   "cell_type": "code",
   "execution_count": null,
   "metadata": {},
   "outputs": [],
   "source": []
  },
  {
   "cell_type": "code",
   "execution_count": null,
   "metadata": {},
   "outputs": [],
   "source": []
  }
 ],
 "metadata": {
  "kernelspec": {
   "display_name": "Python 3",
   "language": "python",
   "name": "python3"
  },
  "language_info": {
   "codemirror_mode": {
    "name": "ipython",
    "version": 3
   },
   "file_extension": ".py",
   "mimetype": "text/x-python",
   "name": "python",
   "nbconvert_exporter": "python",
   "pygments_lexer": "ipython3",
   "version": "3.8.3"
  }
 },
 "nbformat": 4,
 "nbformat_minor": 4
}
